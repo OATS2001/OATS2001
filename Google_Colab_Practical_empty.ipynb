{
  "nbformat": 4,
  "nbformat_minor": 0,
  "metadata": {
    "colab": {
      "provenance": [],
      "collapsed_sections": [
        "xENhcPMRGhXp",
        "9UayUMb-Regm",
        "-hiB7MfdhnVl",
        "92V0B-br7q9A"
      ],
      "include_colab_link": true
    },
    "kernelspec": {
      "name": "python3",
      "display_name": "Python 3"
    },
    "language_info": {
      "name": "python"
    }
  },
  "cells": [
    {
      "cell_type": "markdown",
      "metadata": {
        "id": "view-in-github",
        "colab_type": "text"
      },
      "source": [
        "<a href=\"https://colab.research.google.com/github/OATS2001/OATS2001/blob/main/Google_Colab_Practical_empty.ipynb\" target=\"_parent\"><img src=\"https://colab.research.google.com/assets/colab-badge.svg\" alt=\"Open In Colab\"/></a>"
      ]
    },
    {
      "cell_type": "markdown",
      "metadata": {
        "id": "i-VLQFBvr7Q6"
      },
      "source": [
        "# Instructions\n",
        "\n",
        "[Before you start running your code, make sure that you are not connected to the GPU / TPU.]\n",
        "\n",
        "**This notebook consists of the following sections:**\n",
        "\n",
        "1. Basic Cell Commands\n",
        "2. Importing Datasets\n",
        "3. Mounting Drive\n",
        "4. Exporting Dataset\n",
        "5. Text Editor\n",
        "\n"
      ]
    },
    {
      "cell_type": "code",
      "source": [
        "print(\"hello colab\")"
      ],
      "metadata": {
        "colab": {
          "base_uri": "https://localhost:8080/"
        },
        "id": "HrBK8UOmIRjq",
        "outputId": "e572879c-172d-4ab3-e405-8dc055e80f33"
      },
      "execution_count": 1,
      "outputs": [
        {
          "output_type": "stream",
          "name": "stdout",
          "text": [
            "hello colab\n"
          ]
        }
      ]
    },
    {
      "cell_type": "markdown",
      "source": [
        "yhoo! this is *hectic*"
      ],
      "metadata": {
        "id": "zr7E5gSYIqTx"
      }
    },
    {
      "cell_type": "markdown",
      "source": [
        "## 1. Basic Cell Commands\n",
        "A notebook is made up of cells that can either be code or rich text. Text is like the guiding text that you see in this notebook while code is the code that you would run and see an output.\n",
        "\n",
        "To run a cell, you need to click on the \"play\" button or use the menu items with shortcuts.\n",
        "\n",
        "Each code / text cell has functions that you can perform such as moving a cell up or down, copying a link to cell, adding a comment, settings and deleting a cell.\n",
        "\n",
        "Activity 1 - Add a text and code cell.\n",
        "\n",
        "**Note**: It's important to understand how the text cells work as you will need to add text when doing submission for your qualifiers and final datathon\n"
      ],
      "metadata": {
        "id": "xENhcPMRGhXp"
      }
    },
    {
      "cell_type": "markdown",
      "metadata": {
        "id": "GwCp1D54snTf"
      },
      "source": [
        "### 1.1 Change the name of the notebook from   *Google_Colab_Practical.ipynb*   to   *Google_Colab_Practical_{your name}.ipynb*. Then add a text box under \"Instructions\" and add today's date to that box."
      ]
    },
    {
      "cell_type": "code",
      "source": [
        "print(\"Google_Colab_Practical_{OKUHLE}.ipynb\")"
      ],
      "metadata": {
        "colab": {
          "base_uri": "https://localhost:8080/"
        },
        "id": "8nsYGXynKIe7",
        "outputId": "dfc19515-b231-4479-a805-2f82ebb65306"
      },
      "execution_count": 2,
      "outputs": [
        {
          "output_type": "stream",
          "name": "stdout",
          "text": [
            "Google_Colab_Practical_{OKUHLE}.ipynb\n"
          ]
        }
      ]
    },
    {
      "cell_type": "markdown",
      "source": [
        "23/06/2025"
      ],
      "metadata": {
        "id": "35fsaRMzLYCk"
      }
    },
    {
      "cell_type": "markdown",
      "source": [
        "## 2. Importing datasets"
      ],
      "metadata": {
        "id": "9UayUMb-Regm"
      }
    },
    {
      "cell_type": "markdown",
      "metadata": {
        "id": "P0CsHqqFs_uW"
      },
      "source": [
        "### 2.1 Import the dataset from [this public link](https://raw.githubusercontent.com/boennemann/animals/master/words.json)."
      ]
    },
    {
      "source": [
        "!wget https://raw.githubusercontent.com/boennemann/animals/master/words.json"
      ],
      "cell_type": "code",
      "metadata": {
        "id": "2X7WqJlwR0zr"
      },
      "execution_count": null,
      "outputs": []
    },
    {
      "cell_type": "code",
      "source": [],
      "metadata": {
        "colab": {
          "base_uri": "https://localhost:8080/",
          "height": 38
        },
        "id": "OSkwWc-CL_y1",
        "outputId": "195318b4-5686-4c8e-d3b7-b143c5333535"
      },
      "execution_count": null,
      "outputs": [
        {
          "output_type": "display_data",
          "data": {
            "text/plain": [
              "<IPython.core.display.HTML object>"
            ],
            "text/html": [
              "\n",
              "     <input type=\"file\" id=\"files-301e7442-f383-4f9e-a658-a2d92addc738\" name=\"files[]\" multiple disabled\n",
              "        style=\"border:none\" />\n",
              "     <output id=\"result-301e7442-f383-4f9e-a658-a2d92addc738\">\n",
              "      Upload widget is only available when the cell has been executed in the\n",
              "      current browser session. Please rerun this cell to enable.\n",
              "      </output>\n",
              "      <script>// Copyright 2017 Google LLC\n",
              "//\n",
              "// Licensed under the Apache License, Version 2.0 (the \"License\");\n",
              "// you may not use this file except in compliance with the License.\n",
              "// You may obtain a copy of the License at\n",
              "//\n",
              "//      http://www.apache.org/licenses/LICENSE-2.0\n",
              "//\n",
              "// Unless required by applicable law or agreed to in writing, software\n",
              "// distributed under the License is distributed on an \"AS IS\" BASIS,\n",
              "// WITHOUT WARRANTIES OR CONDITIONS OF ANY KIND, either express or implied.\n",
              "// See the License for the specific language governing permissions and\n",
              "// limitations under the License.\n",
              "\n",
              "/**\n",
              " * @fileoverview Helpers for google.colab Python module.\n",
              " */\n",
              "(function(scope) {\n",
              "function span(text, styleAttributes = {}) {\n",
              "  const element = document.createElement('span');\n",
              "  element.textContent = text;\n",
              "  for (const key of Object.keys(styleAttributes)) {\n",
              "    element.style[key] = styleAttributes[key];\n",
              "  }\n",
              "  return element;\n",
              "}\n",
              "\n",
              "// Max number of bytes which will be uploaded at a time.\n",
              "const MAX_PAYLOAD_SIZE = 100 * 1024;\n",
              "\n",
              "function _uploadFiles(inputId, outputId) {\n",
              "  const steps = uploadFilesStep(inputId, outputId);\n",
              "  const outputElement = document.getElementById(outputId);\n",
              "  // Cache steps on the outputElement to make it available for the next call\n",
              "  // to uploadFilesContinue from Python.\n",
              "  outputElement.steps = steps;\n",
              "\n",
              "  return _uploadFilesContinue(outputId);\n",
              "}\n",
              "\n",
              "// This is roughly an async generator (not supported in the browser yet),\n",
              "// where there are multiple asynchronous steps and the Python side is going\n",
              "// to poll for completion of each step.\n",
              "// This uses a Promise to block the python side on completion of each step,\n",
              "// then passes the result of the previous step as the input to the next step.\n",
              "function _uploadFilesContinue(outputId) {\n",
              "  const outputElement = document.getElementById(outputId);\n",
              "  const steps = outputElement.steps;\n",
              "\n",
              "  const next = steps.next(outputElement.lastPromiseValue);\n",
              "  return Promise.resolve(next.value.promise).then((value) => {\n",
              "    // Cache the last promise value to make it available to the next\n",
              "    // step of the generator.\n",
              "    outputElement.lastPromiseValue = value;\n",
              "    return next.value.response;\n",
              "  });\n",
              "}\n",
              "\n",
              "/**\n",
              " * Generator function which is called between each async step of the upload\n",
              " * process.\n",
              " * @param {string} inputId Element ID of the input file picker element.\n",
              " * @param {string} outputId Element ID of the output display.\n",
              " * @return {!Iterable<!Object>} Iterable of next steps.\n",
              " */\n",
              "function* uploadFilesStep(inputId, outputId) {\n",
              "  const inputElement = document.getElementById(inputId);\n",
              "  inputElement.disabled = false;\n",
              "\n",
              "  const outputElement = document.getElementById(outputId);\n",
              "  outputElement.innerHTML = '';\n",
              "\n",
              "  const pickedPromise = new Promise((resolve) => {\n",
              "    inputElement.addEventListener('change', (e) => {\n",
              "      resolve(e.target.files);\n",
              "    });\n",
              "  });\n",
              "\n",
              "  const cancel = document.createElement('button');\n",
              "  inputElement.parentElement.appendChild(cancel);\n",
              "  cancel.textContent = 'Cancel upload';\n",
              "  const cancelPromise = new Promise((resolve) => {\n",
              "    cancel.onclick = () => {\n",
              "      resolve(null);\n",
              "    };\n",
              "  });\n",
              "\n",
              "  // Wait for the user to pick the files.\n",
              "  const files = yield {\n",
              "    promise: Promise.race([pickedPromise, cancelPromise]),\n",
              "    response: {\n",
              "      action: 'starting',\n",
              "    }\n",
              "  };\n",
              "\n",
              "  cancel.remove();\n",
              "\n",
              "  // Disable the input element since further picks are not allowed.\n",
              "  inputElement.disabled = true;\n",
              "\n",
              "  if (!files) {\n",
              "    return {\n",
              "      response: {\n",
              "        action: 'complete',\n",
              "      }\n",
              "    };\n",
              "  }\n",
              "\n",
              "  for (const file of files) {\n",
              "    const li = document.createElement('li');\n",
              "    li.append(span(file.name, {fontWeight: 'bold'}));\n",
              "    li.append(span(\n",
              "        `(${file.type || 'n/a'}) - ${file.size} bytes, ` +\n",
              "        `last modified: ${\n",
              "            file.lastModifiedDate ? file.lastModifiedDate.toLocaleDateString() :\n",
              "                                    'n/a'} - `));\n",
              "    const percent = span('0% done');\n",
              "    li.appendChild(percent);\n",
              "\n",
              "    outputElement.appendChild(li);\n",
              "\n",
              "    const fileDataPromise = new Promise((resolve) => {\n",
              "      const reader = new FileReader();\n",
              "      reader.onload = (e) => {\n",
              "        resolve(e.target.result);\n",
              "      };\n",
              "      reader.readAsArrayBuffer(file);\n",
              "    });\n",
              "    // Wait for the data to be ready.\n",
              "    let fileData = yield {\n",
              "      promise: fileDataPromise,\n",
              "      response: {\n",
              "        action: 'continue',\n",
              "      }\n",
              "    };\n",
              "\n",
              "    // Use a chunked sending to avoid message size limits. See b/62115660.\n",
              "    let position = 0;\n",
              "    do {\n",
              "      const length = Math.min(fileData.byteLength - position, MAX_PAYLOAD_SIZE);\n",
              "      const chunk = new Uint8Array(fileData, position, length);\n",
              "      position += length;\n",
              "\n",
              "      const base64 = btoa(String.fromCharCode.apply(null, chunk));\n",
              "      yield {\n",
              "        response: {\n",
              "          action: 'append',\n",
              "          file: file.name,\n",
              "          data: base64,\n",
              "        },\n",
              "      };\n",
              "\n",
              "      let percentDone = fileData.byteLength === 0 ?\n",
              "          100 :\n",
              "          Math.round((position / fileData.byteLength) * 100);\n",
              "      percent.textContent = `${percentDone}% done`;\n",
              "\n",
              "    } while (position < fileData.byteLength);\n",
              "  }\n",
              "\n",
              "  // All done.\n",
              "  yield {\n",
              "    response: {\n",
              "      action: 'complete',\n",
              "    }\n",
              "  };\n",
              "}\n",
              "\n",
              "scope.google = scope.google || {};\n",
              "scope.google.colab = scope.google.colab || {};\n",
              "scope.google.colab._files = {\n",
              "  _uploadFiles,\n",
              "  _uploadFilesContinue,\n",
              "};\n",
              "})(self);\n",
              "</script> "
            ]
          },
          "metadata": {}
        }
      ]
    },
    {
      "cell_type": "code",
      "metadata": {
        "id": "_xkM1WHRvIbg"
      },
      "source": [
        "#run !wget and the public link url\n",
        "\n",
        "# Enter code\n"
      ],
      "execution_count": null,
      "outputs": []
    },
    {
      "source": [
        "!git clone https://github.com/boennemann/animals.git"
      ],
      "cell_type": "code",
      "metadata": {
        "id": "s4N_61QHSs3B"
      },
      "execution_count": null,
      "outputs": []
    },
    {
      "cell_type": "markdown",
      "metadata": {
        "id": "7XmKUk6EtN55"
      },
      "source": [
        "### 2.2 Import [this GitHub repository](https://github.com/boennemann/animals).\n",
        "(Make sure that repository has been imported by running `!ls` or checking in Files)"
      ]
    },
    {
      "cell_type": "code",
      "metadata": {
        "id": "8LBJw4qBxtyU"
      },
      "source": [
        "# Enter code here:\n"
      ],
      "execution_count": null,
      "outputs": []
    },
    {
      "source": [
        "!git clone https://github.com/boennemann/animals.git"
      ],
      "cell_type": "code",
      "metadata": {
        "id": "U0XDNL6nav5D"
      },
      "execution_count": null,
      "outputs": []
    },
    {
      "cell_type": "code",
      "source": [],
      "metadata": {
        "id": "_gn75uCKTD_V"
      },
      "execution_count": null,
      "outputs": []
    },
    {
      "cell_type": "markdown",
      "source": [
        "### 2.3 From local computer\n",
        "\n",
        "There are two options to upload a file from the local computer:\n",
        "\n",
        "\n",
        "*   Upload to session storage\n",
        "*   Upload function. Below is the code for this function:\n",
        "\n",
        "```\n",
        "from google.colab import files\n",
        "uploaded_file = files.upload()\n",
        "```\n",
        "Check that the file is uploaded by refreshing your files list or using:\n",
        "\n",
        "\n",
        "```\n",
        "!ls\n",
        "```\n",
        "\n",
        "this lists all your files in your directory\n",
        "\n",
        "\n"
      ],
      "metadata": {
        "id": "N-VwJTChe8Hf"
      }
    },
    {
      "cell_type": "code",
      "source": [
        "#upload cars.csv using upload to session storage\n",
        "#delete the file\n",
        "#reupload file using the upload function\n",
        "\n",
        "\n",
        "\n",
        "#check that file is uploaded\n",
        "\n"
      ],
      "metadata": {
        "id": "Ts5lcd6lfPes"
      },
      "execution_count": null,
      "outputs": []
    },
    {
      "source": [
        "!pip install kaggle"
      ],
      "cell_type": "code",
      "metadata": {
        "id": "0DNhKVIZTsIu"
      },
      "execution_count": null,
      "outputs": []
    },
    {
      "source": [
        "from google.colab import files\n",
        "uploaded_file = files.upload()"
      ],
      "cell_type": "code",
      "metadata": {
        "id": "F3GYB4blTtSl"
      },
      "execution_count": null,
      "outputs": []
    },
    {
      "source": [
        "!mkdir ~/.kaggle\n",
        "!cp kaggle.json ~/.kaggle/\n",
        "!chmod 600 ~/.kaggle/kaggle.json"
      ],
      "cell_type": "code",
      "metadata": {
        "id": "cceZSVdfTuGq"
      },
      "execution_count": null,
      "outputs": []
    },
    {
      "source": [
        "!kaggle datasets download -d parulpandey/palmer-archipelago-antarctica-penguin-data"
      ],
      "cell_type": "code",
      "metadata": {
        "id": "_rkYV9OeTv5t"
      },
      "execution_count": null,
      "outputs": []
    },
    {
      "cell_type": "markdown",
      "source": [
        "### 2.4. Import from Kaggle\n",
        "\n",
        "Use the following instructions to import a dataset from the Kaggle platform to your Google Colab notebook (To import a library that's not in Colaboratory by default, you can use `!pip install` or `!apt-get install`.):\n",
        "https://sushmitasingh1996.medium.com/importing-kaggle-dataset-into-google-colab-using-api-command-5b735862b6e6\n",
        "\n",
        "Import this dataset: https://www.kaggle.com/datasets/parulpandey/palmer-archipelago-antarctica-penguin-data"
      ],
      "metadata": {
        "id": "RHfvTtEjya4G"
      }
    },
    {
      "cell_type": "code",
      "source": [
        "#!pip install kaggle\n",
        "# Enter code here:\n",
        "\n",
        "#download kaggle.json file from your kaggle account"
      ],
      "metadata": {
        "id": "P1U2oQr6z4F4"
      },
      "execution_count": null,
      "outputs": []
    },
    {
      "cell_type": "code",
      "source": [
        "#Use upload function to upload the kaggle.json file\n"
      ],
      "metadata": {
        "id": "rAHIwrYizkIh"
      },
      "execution_count": null,
      "outputs": []
    },
    {
      "cell_type": "code",
      "source": [
        "#Ensure that you are logged into your Kaggle account and download the file\n"
      ],
      "metadata": {
        "id": "uCXlorOEoSm7"
      },
      "execution_count": null,
      "outputs": []
    },
    {
      "cell_type": "code",
      "source": [
        "#Create a directory ‘~/ .kaggle’ and copy kaggle.json in this directory. Change the permission of the file so that only you can read and write.\n"
      ],
      "metadata": {
        "id": "_0vpj_W2zuUN"
      },
      "execution_count": null,
      "outputs": []
    },
    {
      "cell_type": "code",
      "source": [
        "#show all files in directory\n"
      ],
      "metadata": {
        "id": "kMDW8hmL0L7b"
      },
      "execution_count": null,
      "outputs": []
    },
    {
      "cell_type": "code",
      "source": [
        "#unzip downloaded kaggle files\n",
        "\n",
        "#show all files in directory\n"
      ],
      "metadata": {
        "id": "QmU3SBch0VSx"
      },
      "execution_count": null,
      "outputs": []
    },
    {
      "cell_type": "code",
      "source": [],
      "metadata": {
        "id": "j9g3VnaUa3nI"
      },
      "execution_count": null,
      "outputs": []
    },
    {
      "source": [
        "# 1. Install the Kaggle library\n",
        "!pip install kaggle\n",
        "\n",
        "# 2. Download your kaggle.json file from your Kaggle account settings (manual step)\n",
        "\n",
        "# 3. Upload your kaggle.json file\n",
        "from google.colab import files\n",
        "uploaded_file = files.upload()\n",
        "# You will be prompted to upload the kaggle.json file after running this cell\n",
        "\n",
        "# 4. Set up the Kaggle directory and permissions\n",
        "!mkdir ~/.kaggle\n",
        "!cp kaggle.json ~/.kaggle/\n",
        "!chmod 600 ~/.kaggle/kaggle.json\n",
        "\n",
        "# 5. Download the dataset\n",
        "!kaggle datasets download -d parulpandey/palmer-archipelago-antarctica-penguin-data\n",
        "\n",
        "# 6. Unzip the downloaded file (replace with the actual zip file name)\n",
        "# Run !ls to find the name of the downloaded zip file\n",
        "# Example: !unzip palmer-archipelago-antarctica-penguin-data.zip"
      ],
      "cell_type": "code",
      "metadata": {
        "id": "DANUbDxJa4LD"
      },
      "execution_count": null,
      "outputs": []
    },
    {
      "cell_type": "markdown",
      "source": [
        "## 3. Mount Google Drive\n",
        "\n",
        "You can either use:\n",
        "\n",
        "\n",
        "*   The files directory. This allows you to mount the drive using the GUI. Ensure that you select all the permissions as you might errors if you dont.\n",
        "*   Write the following code (Can also use the icon on left menu):\n",
        "```\n",
        "from google.colab import drive\n",
        "drive.mount('/content/gdrive')\n",
        "```\n",
        "\n",
        "To unmount:\n",
        "\n",
        "```\n",
        "from google.colab import drive\n",
        "drive.flush_and_unmount()\n",
        "```\n",
        "\n",
        "\n",
        "\n",
        "\n",
        "\n"
      ],
      "metadata": {
        "id": "-hiB7MfdhnVl"
      }
    },
    {
      "cell_type": "code",
      "source": [
        "#Mount and unmount the drive using google drive icon\n",
        "\n",
        "#write code to mount the drive\n",
        "\n",
        "\n",
        "#write code to unmount\n",
        "\n"
      ],
      "metadata": {
        "id": "SLUuM1Ypig0i"
      },
      "execution_count": null,
      "outputs": []
    },
    {
      "cell_type": "code",
      "source": [
        "from google.colab import drive\n",
        "drive.mount('/content/gdrive')"
      ],
      "metadata": {
        "id": "Y1u7cCOFUMhp"
      },
      "execution_count": null,
      "outputs": []
    },
    {
      "cell_type": "code",
      "source": [
        "from google.colab import drive\n",
        "drive.flush_and_unmount()"
      ],
      "metadata": {
        "id": "7zRM7ka4UVTP"
      },
      "execution_count": null,
      "outputs": []
    },
    {
      "cell_type": "markdown",
      "metadata": {
        "id": "GvXvITRT1dD5"
      },
      "source": [
        "### 3.1 Add file\n",
        "Add the 'cars.csv' file on local machine to your Google Drive. Rename it to 'cars_drive.csv'. Do this by importing 'cars_drive.csv' to your notebook by mounting the Drive."
      ]
    },
    {
      "cell_type": "code",
      "source": [
        "#add code to mount drive and import cars.csv file as cars_drive.csv"
      ],
      "metadata": {
        "id": "6zFD9tgirsgH"
      },
      "execution_count": null,
      "outputs": []
    },
    {
      "cell_type": "code",
      "source": [],
      "metadata": {
        "id": "FduAXDsbU9GC"
      },
      "execution_count": null,
      "outputs": []
    },
    {
      "source": [
        "from google.colab import drive\n",
        "drive.mount('/content/gdrive')\n",
        "Add = \"/content/gdrive/MyDrive/cars_drive.csv\"\n",
        "print(Add)"
      ],
      "cell_type": "code",
      "metadata": {
        "id": "dHrGjK0TVdX_"
      },
      "execution_count": null,
      "outputs": []
    },
    {
      "cell_type": "code",
      "source": [],
      "metadata": {
        "id": "38FDRwmMVlG9"
      },
      "execution_count": null,
      "outputs": []
    },
    {
      "cell_type": "markdown",
      "metadata": {
        "id": "92V0B-br7q9A"
      },
      "source": [
        "## 4. Export dataset\n"
      ]
    },
    {
      "cell_type": "markdown",
      "source": [
        "### 4.1 Export to Google Drive\n",
        "\n",
        "Create a folder \"datasets\" in your Google drive. Now export the \"cars.csv\" file from your notebook to the \"datasets\" folder in your Google Drive. Start by importing the file into runtime using upload function\n",
        "\n",
        "The code to export is:\n",
        "\n",
        "\n",
        "```\n",
        "!cp 'path_to_data/dataset.csv' 'path_to_Google_drive'\n",
        "```\n"
      ],
      "metadata": {
        "id": "PAkWGja4T8o1"
      }
    },
    {
      "cell_type": "code",
      "metadata": {
        "id": "g2-5v8Uy7yHr"
      },
      "source": [
        "#import file using upload function\n",
        "\n",
        "#mount drive if not already mounted\n",
        "\n",
        "#create datasets folder in MyDrive\n",
        "\n",
        "# Enter code to export here\n"
      ],
      "execution_count": null,
      "outputs": []
    },
    {
      "cell_type": "code",
      "source": [],
      "metadata": {
        "id": "yGZQ-d8-XG6F"
      },
      "execution_count": null,
      "outputs": []
    },
    {
      "source": [
        "    from google.colab import files\n",
        "    uploaded = files.upload()"
      ],
      "cell_type": "code",
      "metadata": {
        "id": "lODv616zXJot"
      },
      "execution_count": null,
      "outputs": []
    },
    {
      "cell_type": "code",
      "source": [],
      "metadata": {
        "id": "YGjuDejLXOKv"
      },
      "execution_count": null,
      "outputs": []
    },
    {
      "source": [
        "from google.colab import drive\n",
        "    drive.mount('/content/gdrive')"
      ],
      "cell_type": "code",
      "metadata": {
        "id": "-SsuuY6gXO0G"
      },
      "execution_count": null,
      "outputs": []
    },
    {
      "cell_type": "code",
      "source": [],
      "metadata": {
        "id": "55rcvVTlXSsl"
      },
      "execution_count": null,
      "outputs": []
    },
    {
      "source": [
        "!cp 'cars.csv' '/content/gdrive/MyDrive/datasets/cars.csv'"
      ],
      "cell_type": "code",
      "metadata": {
        "id": "E-lsa1NwXUcX"
      },
      "execution_count": null,
      "outputs": []
    },
    {
      "cell_type": "code",
      "source": [
        "!cp `path_to_data/dataset.csv` `path_to_Google_drive`"
      ],
      "metadata": {
        "id": "cpjG6Mk2WW_Z"
      },
      "execution_count": null,
      "outputs": []
    },
    {
      "cell_type": "markdown",
      "source": [
        "### 4.2 Export to local machine\n",
        "\n",
        "You can also export to local machine. The code is the same as upload fuction except we now use the download keywod.\n",
        "\n",
        "\n",
        "```\n",
        "from google.colab import files\n",
        "files.download('dataset.csv')\n",
        "```\n",
        "\n"
      ],
      "metadata": {
        "id": "R0sHqABEvOav"
      }
    },
    {
      "cell_type": "code",
      "source": [],
      "metadata": {
        "id": "SIsetoInXl4d"
      },
      "execution_count": null,
      "outputs": []
    },
    {
      "source": [
        "from google.colab import files\n",
        "    files.download('cars.csv')"
      ],
      "cell_type": "code",
      "metadata": {
        "id": "IMFNXYNLXnPD"
      },
      "execution_count": null,
      "outputs": []
    },
    {
      "cell_type": "code",
      "source": [
        "#lets export any csv to our local machine\n",
        "#put the full path of the file\n",
        "\n"
      ],
      "metadata": {
        "colab": {
          "base_uri": "https://localhost:8080/",
          "height": 17
        },
        "id": "Le3qjhElvk_J",
        "outputId": "1bca2bfe-694a-4c4f-abf1-677fa59e114c"
      },
      "execution_count": null,
      "outputs": [
        {
          "output_type": "display_data",
          "data": {
            "text/plain": [
              "<IPython.core.display.Javascript object>"
            ],
            "application/javascript": [
              "\n",
              "    async function download(id, filename, size) {\n",
              "      if (!google.colab.kernel.accessAllowed) {\n",
              "        return;\n",
              "      }\n",
              "      const div = document.createElement('div');\n",
              "      const label = document.createElement('label');\n",
              "      label.textContent = `Downloading \"${filename}\": `;\n",
              "      div.appendChild(label);\n",
              "      const progress = document.createElement('progress');\n",
              "      progress.max = size;\n",
              "      div.appendChild(progress);\n",
              "      document.body.appendChild(div);\n",
              "\n",
              "      const buffers = [];\n",
              "      let downloaded = 0;\n",
              "\n",
              "      const channel = await google.colab.kernel.comms.open(id);\n",
              "      // Send a message to notify the kernel that we're ready.\n",
              "      channel.send({})\n",
              "\n",
              "      for await (const message of channel.messages) {\n",
              "        // Send a message to notify the kernel that we're ready.\n",
              "        channel.send({})\n",
              "        if (message.buffers) {\n",
              "          for (const buffer of message.buffers) {\n",
              "            buffers.push(buffer);\n",
              "            downloaded += buffer.byteLength;\n",
              "            progress.value = downloaded;\n",
              "          }\n",
              "        }\n",
              "      }\n",
              "      const blob = new Blob(buffers, {type: 'application/binary'});\n",
              "      const a = document.createElement('a');\n",
              "      a.href = window.URL.createObjectURL(blob);\n",
              "      a.download = filename;\n",
              "      div.appendChild(a);\n",
              "      a.click();\n",
              "      div.remove();\n",
              "    }\n",
              "  "
            ]
          },
          "metadata": {}
        },
        {
          "output_type": "display_data",
          "data": {
            "text/plain": [
              "<IPython.core.display.Javascript object>"
            ],
            "application/javascript": [
              "download(\"download_0cfa401d-18fd-4704-83de-fdacb358d57e\", \"mnist_test.csv\", 18289443)"
            ]
          },
          "metadata": {}
        }
      ]
    },
    {
      "cell_type": "markdown",
      "source": [
        "## 5. Text Editing\n",
        "\n",
        "As mentioned that as part of the datathon, you will be submitting a notebook. It is therefore important to ensure that you understand the various text editing functions in colab:\n",
        "\n",
        "*   Headings. This is the hash symbol. The use of 1 hash is equivalent to heading 1 size.\n",
        "*   Bold / Italics\n",
        "* Add Code\n",
        "* Add a Hyper Link\n",
        "* Bullets and numbers\n",
        "* Mathematical equations. Try the below code\n",
        "\n",
        "\n",
        "```\n",
        "$\\sqrt{3x-1} + 1$\n",
        "```\n",
        "\n",
        "\n",
        "*   Add image. Upload bus_image.jpg in the next code block.\n",
        "*   List and numbered items\n",
        "\n"
      ],
      "metadata": {
        "id": "spTi-wxpxbpB"
      }
    },
    {
      "cell_type": "markdown",
      "metadata": {
        "id": "RRVg0z4E9Y5K"
      },
      "source": [
        "### 5.1 Upload bus_image.jpg to your notebook.\n",
        "> Add image here:"
      ]
    },
    {
      "cell_type": "code",
      "source": [],
      "metadata": {
        "id": "2vBoJH_YYR6-"
      },
      "execution_count": null,
      "outputs": []
    },
    {
      "source": [
        "from google.colab import files\n",
        "uploaded = files.upload()"
      ],
      "cell_type": "code",
      "metadata": {
        "id": "yx4k_IlCYSg8"
      },
      "execution_count": null,
      "outputs": []
    },
    {
      "cell_type": "code",
      "source": [
        "#add image here"
      ],
      "metadata": {
        "id": "hsMTTNeTwz4D"
      },
      "execution_count": null,
      "outputs": []
    },
    {
      "cell_type": "markdown",
      "source": [
        "### 5.2 Try a mathematical equation"
      ],
      "metadata": {
        "id": "gwF086_lz-KA"
      }
    },
    {
      "cell_type": "code",
      "source": [
        "#try mathematical equation"
      ],
      "metadata": {
        "id": "hkEnfC3V0CfV"
      },
      "execution_count": null,
      "outputs": []
    },
    {
      "cell_type": "markdown",
      "source": [],
      "metadata": {
        "id": "uT0cbpJYYi3_"
      }
    },
    {
      "source": [
        "Try this mathematical equation: $\\sqrt{3x-1} + 1$"
      ],
      "cell_type": "code",
      "metadata": {
        "id": "0DHtGPFVYjov"
      },
      "execution_count": null,
      "outputs": []
    }
  ]
}